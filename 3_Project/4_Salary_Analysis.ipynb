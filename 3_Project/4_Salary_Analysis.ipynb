{
 "cells": [
  {
   "cell_type": "markdown",
   "metadata": {},
   "source": [
    "# How well do jobs and skills pay for Data Analysts?"
   ]
  },
  {
   "cell_type": "code",
   "execution_count": 1,
   "metadata": {},
   "outputs": [
    {
     "name": "stderr",
     "output_type": "stream",
     "text": [
      "c:\\Users\\Mihai\\anaconda3\\envs\\python_course\\Lib\\site-packages\\tqdm\\auto.py:21: TqdmWarning: IProgress not found. Please update jupyter and ipywidgets. See https://ipywidgets.readthedocs.io/en/stable/user_install.html\n",
      "  from .autonotebook import tqdm as notebook_tqdm\n"
     ]
    }
   ],
   "source": [
    "import pandas as pd\n",
    "from datasets import load_dataset\n",
    "import matplotlib.pyplot as plt\n",
    "import ast\n",
    "import seaborn as sns\n",
    "\n",
    "#Loading Data\n",
    "dataset = load_dataset('lukebarousse/data_jobs')\n",
    "df = dataset['train'].to_pandas()\n",
    "\n",
    "#Cleaning Data\n",
    "df['job_posted_date'] = pd.to_datetime(df.job_posted_date)\n",
    "df['job_skills'] = df['job_skills'].apply(lambda x: ast.literal_eval(x) if pd.notna(x) else x)"
   ]
  },
  {
   "cell_type": "code",
   "execution_count": 3,
   "metadata": {},
   "outputs": [
    {
     "data": {
      "text/html": [
       "<div>\n",
       "<style scoped>\n",
       "    .dataframe tbody tr th:only-of-type {\n",
       "        vertical-align: middle;\n",
       "    }\n",
       "\n",
       "    .dataframe tbody tr th {\n",
       "        vertical-align: top;\n",
       "    }\n",
       "\n",
       "    .dataframe thead th {\n",
       "        text-align: right;\n",
       "    }\n",
       "</style>\n",
       "<table border=\"1\" class=\"dataframe\">\n",
       "  <thead>\n",
       "    <tr style=\"text-align: right;\">\n",
       "      <th></th>\n",
       "      <th>job_title_short</th>\n",
       "      <th>job_title</th>\n",
       "      <th>job_location</th>\n",
       "      <th>job_via</th>\n",
       "      <th>job_schedule_type</th>\n",
       "      <th>job_work_from_home</th>\n",
       "      <th>search_location</th>\n",
       "      <th>job_posted_date</th>\n",
       "      <th>job_no_degree_mention</th>\n",
       "      <th>job_health_insurance</th>\n",
       "      <th>job_country</th>\n",
       "      <th>salary_rate</th>\n",
       "      <th>salary_year_avg</th>\n",
       "      <th>salary_hour_avg</th>\n",
       "      <th>company_name</th>\n",
       "      <th>job_skills</th>\n",
       "      <th>job_type_skills</th>\n",
       "    </tr>\n",
       "  </thead>\n",
       "  <tbody>\n",
       "    <tr>\n",
       "      <th>260785</th>\n",
       "      <td>Senior Data Analyst</td>\n",
       "      <td>Senior Product Manager (Data Products)</td>\n",
       "      <td>Romania</td>\n",
       "      <td>via Ai-Jobs.net</td>\n",
       "      <td>Full-time</td>\n",
       "      <td>False</td>\n",
       "      <td>Romania</td>\n",
       "      <td>2023-12-20 07:28:53</td>\n",
       "      <td>True</td>\n",
       "      <td>False</td>\n",
       "      <td>Romania</td>\n",
       "      <td>year</td>\n",
       "      <td>86400.0</td>\n",
       "      <td>NaN</td>\n",
       "      <td>Snyk</td>\n",
       "      <td>None</td>\n",
       "      <td>None</td>\n",
       "    </tr>\n",
       "    <tr>\n",
       "      <th>631039</th>\n",
       "      <td>Data Scientist</td>\n",
       "      <td>Data Strategist</td>\n",
       "      <td>Cluj-Napoca, Romania</td>\n",
       "      <td>via Ai-Jobs.net</td>\n",
       "      <td>Full-time</td>\n",
       "      <td>False</td>\n",
       "      <td>Romania</td>\n",
       "      <td>2023-02-28 12:30:24</td>\n",
       "      <td>True</td>\n",
       "      <td>False</td>\n",
       "      <td>Romania</td>\n",
       "      <td>year</td>\n",
       "      <td>80850.0</td>\n",
       "      <td>NaN</td>\n",
       "      <td>ComplyAdvantage</td>\n",
       "      <td>[excel, spreadsheet]</td>\n",
       "      <td>{'analyst_tools': ['excel', 'spreadsheet']}</td>\n",
       "    </tr>\n",
       "    <tr>\n",
       "      <th>767672</th>\n",
       "      <td>Senior Data Engineer</td>\n",
       "      <td>Senior Data Engineer</td>\n",
       "      <td>Bucharest, Romania</td>\n",
       "      <td>via Ai-Jobs.net</td>\n",
       "      <td>Full-time</td>\n",
       "      <td>False</td>\n",
       "      <td>Romania</td>\n",
       "      <td>2023-04-25 01:29:53</td>\n",
       "      <td>False</td>\n",
       "      <td>False</td>\n",
       "      <td>Romania</td>\n",
       "      <td>year</td>\n",
       "      <td>147500.0</td>\n",
       "      <td>NaN</td>\n",
       "      <td>ExpressVPN</td>\n",
       "      <td>[sql, python, go, snowflake, aws, redshift, bi...</td>\n",
       "      <td>{'analyst_tools': ['tableau'], 'cloud': ['snow...</td>\n",
       "    </tr>\n",
       "  </tbody>\n",
       "</table>\n",
       "</div>"
      ],
      "text/plain": [
       "             job_title_short                               job_title  \\\n",
       "260785   Senior Data Analyst  Senior Product Manager (Data Products)   \n",
       "631039        Data Scientist                         Data Strategist   \n",
       "767672  Senior Data Engineer                    Senior Data Engineer   \n",
       "\n",
       "                job_location          job_via job_schedule_type  \\\n",
       "260785               Romania  via Ai-Jobs.net         Full-time   \n",
       "631039  Cluj-Napoca, Romania  via Ai-Jobs.net         Full-time   \n",
       "767672    Bucharest, Romania  via Ai-Jobs.net         Full-time   \n",
       "\n",
       "        job_work_from_home search_location     job_posted_date  \\\n",
       "260785               False         Romania 2023-12-20 07:28:53   \n",
       "631039               False         Romania 2023-02-28 12:30:24   \n",
       "767672               False         Romania 2023-04-25 01:29:53   \n",
       "\n",
       "        job_no_degree_mention  job_health_insurance job_country salary_rate  \\\n",
       "260785                   True                 False     Romania        year   \n",
       "631039                   True                 False     Romania        year   \n",
       "767672                  False                 False     Romania        year   \n",
       "\n",
       "        salary_year_avg  salary_hour_avg     company_name  \\\n",
       "260785          86400.0              NaN             Snyk   \n",
       "631039          80850.0              NaN  ComplyAdvantage   \n",
       "767672         147500.0              NaN       ExpressVPN   \n",
       "\n",
       "                                               job_skills  \\\n",
       "260785                                               None   \n",
       "631039                               [excel, spreadsheet]   \n",
       "767672  [sql, python, go, snowflake, aws, redshift, bi...   \n",
       "\n",
       "                                          job_type_skills  \n",
       "260785                                               None  \n",
       "631039        {'analyst_tools': ['excel', 'spreadsheet']}  \n",
       "767672  {'analyst_tools': ['tableau'], 'cloud': ['snow...  "
      ]
     },
     "execution_count": 3,
     "metadata": {},
     "output_type": "execute_result"
    }
   ],
   "source": [
    "df_RO = df[df['job_country'] == 'Romania'].dropna(subset=['salary_year_avg'])\n",
    "df_RO.sample(3)"
   ]
  },
  {
   "cell_type": "code",
   "execution_count": 7,
   "metadata": {},
   "outputs": [
    {
     "data": {
      "text/plain": [
       "['Data Analyst',\n",
       " 'Data Scientist',\n",
       " 'Data Engineer',\n",
       " 'Senior Data Analyst',\n",
       " 'Software Engineer',\n",
       " 'Machine Learning Engineer']"
      ]
     },
     "execution_count": 7,
     "metadata": {},
     "output_type": "execute_result"
    }
   ],
   "source": [
    "job_titles = df_RO['job_title_short'].value_counts().head(6).index.tolist()\n",
    "job_titles"
   ]
  },
  {
   "cell_type": "code",
   "execution_count": 8,
   "metadata": {},
   "outputs": [],
   "source": [
    "df_RO_top6 = df_RO[df_RO['job_title_short'].isin(job_titles)]"
   ]
  },
  {
   "cell_type": "code",
   "execution_count": 11,
   "metadata": {},
   "outputs": [
    {
     "data": {
      "text/plain": [
       "Index(['Machine Learning Engineer', 'Software Engineer', 'Data Scientist',\n",
       "       'Senior Data Analyst', 'Data Engineer', 'Data Analyst'],\n",
       "      dtype='object', name='job_title_short')"
      ]
     },
     "execution_count": 11,
     "metadata": {},
     "output_type": "execute_result"
    }
   ],
   "source": [
    "job_order = df_RO_top6.groupby('job_title_short')['salary_year_avg'].median().sort_values(ascending=False).index\n",
    "job_order"
   ]
  },
  {
   "cell_type": "code",
   "execution_count": 12,
   "metadata": {},
   "outputs": [
    {
     "data": {
      "image/png": "[encoded data removed]",
      "text/plain": [
       "<Figure size 640x480 with 1 Axes>"
      ]
     },
     "metadata": {},
     "output_type": "display_data"
    }
   ],
   "source": [
    "sns.boxplot(data=df_RO_top6, x='salary_year_avg',y='job_title_short',order=job_order)\n",
    "sns.set_theme(style='ticks')\n",
    "\n",
    "plt.title('Salary Distributions in Romania')\n",
    "plt.xlabel('Yearly Salary')\n",
    "plt.ylabel('')\n",
    "plt.xlim(0,600_000)\n",
    "ticks_x = plt.FuncFormatter(lambda y, pos: f'${int(y/1000)}K')\n",
    "plt.gca().xaxis.set_major_formatter(ticks_x)\n",
    "plt.show()"
   ]
  },
  {
   "cell_type": "markdown",
   "metadata": {},
   "source": [
    "# Investigate Median Salary Vs Skill for Data Analysts"
   ]
  },
  {
   "cell_type": "code",
   "execution_count": 14,
   "metadata": {},
   "outputs": [],
   "source": [
    "df_DA_RO = df[(df['job_title_short'] == 'Data Analyst') & (df['job_country'] == 'Romania')].copy()\n",
    "df_DA_RO = df_DA_RO.dropna(subset=['salary_year_avg'])"
   ]
  },
  {
   "cell_type": "code",
   "execution_count": 15,
   "metadata": {},
   "outputs": [
    {
     "data": {
      "text/html": [
       "<div>\n",
       "<style scoped>\n",
       "    .dataframe tbody tr th:only-of-type {\n",
       "        vertical-align: middle;\n",
       "    }\n",
       "\n",
       "    .dataframe tbody tr th {\n",
       "        vertical-align: top;\n",
       "    }\n",
       "\n",
       "    .dataframe thead th {\n",
       "        text-align: right;\n",
       "    }\n",
       "</style>\n",
       "<table border=\"1\" class=\"dataframe\">\n",
       "  <thead>\n",
       "    <tr style=\"text-align: right;\">\n",
       "      <th></th>\n",
       "      <th>salary_year_avg</th>\n",
       "      <th>job_skills</th>\n",
       "    </tr>\n",
       "  </thead>\n",
       "  <tbody>\n",
       "    <tr>\n",
       "      <th>162997</th>\n",
       "      <td>43200.0</td>\n",
       "      <td>sql</td>\n",
       "    </tr>\n",
       "    <tr>\n",
       "      <th>162997</th>\n",
       "      <td>43200.0</td>\n",
       "      <td>python</td>\n",
       "    </tr>\n",
       "    <tr>\n",
       "      <th>162997</th>\n",
       "      <td>43200.0</td>\n",
       "      <td>sap</td>\n",
       "    </tr>\n",
       "    <tr>\n",
       "      <th>174496</th>\n",
       "      <td>89100.0</td>\n",
       "      <td>spark</td>\n",
       "    </tr>\n",
       "    <tr>\n",
       "      <th>174496</th>\n",
       "      <td>89100.0</td>\n",
       "      <td>sap</td>\n",
       "    </tr>\n",
       "  </tbody>\n",
       "</table>\n",
       "</div>"
      ],
      "text/plain": [
       "        salary_year_avg job_skills\n",
       "162997          43200.0        sql\n",
       "162997          43200.0     python\n",
       "162997          43200.0        sap\n",
       "174496          89100.0      spark\n",
       "174496          89100.0        sap"
      ]
     },
     "execution_count": 15,
     "metadata": {},
     "output_type": "execute_result"
    }
   ],
   "source": [
    "df_DA_RO = df_DA_RO.explode('job_skills')\n",
    "\n",
    "df_DA_RO[['salary_year_avg','job_skills']].head(5)"
   ]
  },
  {
   "cell_type": "code",
   "execution_count": 21,
   "metadata": {},
   "outputs": [
    {
     "data": {
      "text/html": [
       "<div>\n",
       "<style scoped>\n",
       "    .dataframe tbody tr th:only-of-type {\n",
       "        vertical-align: middle;\n",
       "    }\n",
       "\n",
       "    .dataframe tbody tr th {\n",
       "        vertical-align: top;\n",
       "    }\n",
       "\n",
       "    .dataframe thead th {\n",
       "        text-align: right;\n",
       "    }\n",
       "</style>\n",
       "<table border=\"1\" class=\"dataframe\">\n",
       "  <thead>\n",
       "    <tr style=\"text-align: right;\">\n",
       "      <th></th>\n",
       "      <th>count</th>\n",
       "      <th>median</th>\n",
       "    </tr>\n",
       "    <tr>\n",
       "      <th>job_skills</th>\n",
       "      <th></th>\n",
       "      <th></th>\n",
       "    </tr>\n",
       "  </thead>\n",
       "  <tbody>\n",
       "    <tr>\n",
       "      <th>javascript</th>\n",
       "      <td>1</td>\n",
       "      <td>109120.0</td>\n",
       "    </tr>\n",
       "    <tr>\n",
       "      <th>tableau</th>\n",
       "      <td>1</td>\n",
       "      <td>109120.0</td>\n",
       "    </tr>\n",
       "    <tr>\n",
       "      <th>oracle</th>\n",
       "      <td>1</td>\n",
       "      <td>100500.0</td>\n",
       "    </tr>\n",
       "    <tr>\n",
       "      <th>azure</th>\n",
       "      <td>1</td>\n",
       "      <td>89100.0</td>\n",
       "    </tr>\n",
       "    <tr>\n",
       "      <th>sap</th>\n",
       "      <td>5</td>\n",
       "      <td>89100.0</td>\n",
       "    </tr>\n",
       "    <tr>\n",
       "      <th>spark</th>\n",
       "      <td>4</td>\n",
       "      <td>89100.0</td>\n",
       "    </tr>\n",
       "    <tr>\n",
       "      <th>sql</th>\n",
       "      <td>4</td>\n",
       "      <td>71057.0</td>\n",
       "    </tr>\n",
       "    <tr>\n",
       "      <th>excel</th>\n",
       "      <td>5</td>\n",
       "      <td>56700.0</td>\n",
       "    </tr>\n",
       "    <tr>\n",
       "      <th>powerpoint</th>\n",
       "      <td>1</td>\n",
       "      <td>56700.0</td>\n",
       "    </tr>\n",
       "    <tr>\n",
       "      <th>vba</th>\n",
       "      <td>3</td>\n",
       "      <td>56700.0</td>\n",
       "    </tr>\n",
       "  </tbody>\n",
       "</table>\n",
       "</div>"
      ],
      "text/plain": [
       "            count    median\n",
       "job_skills                 \n",
       "javascript      1  109120.0\n",
       "tableau         1  109120.0\n",
       "oracle          1  100500.0\n",
       "azure           1   89100.0\n",
       "sap             5   89100.0\n",
       "spark           4   89100.0\n",
       "sql             4   71057.0\n",
       "excel           5   56700.0\n",
       "powerpoint      1   56700.0\n",
       "vba             3   56700.0"
      ]
     },
     "execution_count": 21,
     "metadata": {},
     "output_type": "execute_result"
    }
   ],
   "source": [
    "df_DA_top_pay = df_DA_RO.groupby('job_skills')['salary_year_avg'].agg(['count','median']).sort_values('median',ascending=False)\n",
    "df_DA_top_pay = df_DA_top_pay.head(10)\n",
    "df_DA_top_pay"
   ]
  },
  {
   "cell_type": "code",
   "execution_count": 27,
   "metadata": {},
   "outputs": [
    {
     "data": {
      "text/html": [
       "<div>\n",
       "<style scoped>\n",
       "    .dataframe tbody tr th:only-of-type {\n",
       "        vertical-align: middle;\n",
       "    }\n",
       "\n",
       "    .dataframe tbody tr th {\n",
       "        vertical-align: top;\n",
       "    }\n",
       "\n",
       "    .dataframe thead th {\n",
       "        text-align: right;\n",
       "    }\n",
       "</style>\n",
       "<table border=\"1\" class=\"dataframe\">\n",
       "  <thead>\n",
       "    <tr style=\"text-align: right;\">\n",
       "      <th></th>\n",
       "      <th>count</th>\n",
       "      <th>median</th>\n",
       "    </tr>\n",
       "    <tr>\n",
       "      <th>job_skills</th>\n",
       "      <th></th>\n",
       "      <th></th>\n",
       "    </tr>\n",
       "  </thead>\n",
       "  <tbody>\n",
       "    <tr>\n",
       "      <th>javascript</th>\n",
       "      <td>1</td>\n",
       "      <td>109120.0</td>\n",
       "    </tr>\n",
       "    <tr>\n",
       "      <th>oracle</th>\n",
       "      <td>1</td>\n",
       "      <td>100500.0</td>\n",
       "    </tr>\n",
       "    <tr>\n",
       "      <th>sap</th>\n",
       "      <td>5</td>\n",
       "      <td>89100.0</td>\n",
       "    </tr>\n",
       "    <tr>\n",
       "      <th>spark</th>\n",
       "      <td>4</td>\n",
       "      <td>89100.0</td>\n",
       "    </tr>\n",
       "    <tr>\n",
       "      <th>azure</th>\n",
       "      <td>1</td>\n",
       "      <td>89100.0</td>\n",
       "    </tr>\n",
       "    <tr>\n",
       "      <th>sql</th>\n",
       "      <td>4</td>\n",
       "      <td>71057.0</td>\n",
       "    </tr>\n",
       "    <tr>\n",
       "      <th>excel</th>\n",
       "      <td>5</td>\n",
       "      <td>56700.0</td>\n",
       "    </tr>\n",
       "    <tr>\n",
       "      <th>vba</th>\n",
       "      <td>3</td>\n",
       "      <td>56700.0</td>\n",
       "    </tr>\n",
       "    <tr>\n",
       "      <th>go</th>\n",
       "      <td>2</td>\n",
       "      <td>52014.0</td>\n",
       "    </tr>\n",
       "    <tr>\n",
       "      <th>python</th>\n",
       "      <td>2</td>\n",
       "      <td>48107.0</td>\n",
       "    </tr>\n",
       "  </tbody>\n",
       "</table>\n",
       "</div>"
      ],
      "text/plain": [
       "            count    median\n",
       "job_skills                 \n",
       "javascript      1  109120.0\n",
       "oracle          1  100500.0\n",
       "sap             5   89100.0\n",
       "spark           4   89100.0\n",
       "azure           1   89100.0\n",
       "sql             4   71057.0\n",
       "excel           5   56700.0\n",
       "vba             3   56700.0\n",
       "go              2   52014.0\n",
       "python          2   48107.0"
      ]
     },
     "execution_count": 27,
     "metadata": {},
     "output_type": "execute_result"
    }
   ],
   "source": [
    "df_DA_skills = df_DA_RO.groupby('job_skills')['salary_year_avg'].agg(['count','median']).sort_values(by = 'count',ascending=False)\n",
    "df_DA_skills = df_DA_skills.head(10).sort_values('median',ascending=False)\n",
    "df_DA_skills"
   ]
  },
  {
   "cell_type": "code",
   "execution_count": 29,
   "metadata": {},
   "outputs": [
    {
     "data": {
      "image/png": "[encoded data removed]",
      "text/plain": [
       "<Figure size 640x480 with 2 Axes>"
      ]
     },
     "metadata": {},
     "output_type": "display_data"
    }
   ],
   "source": [
    "fig,ax = plt.subplots(2,1)\n",
    "\n",
    "sns.set_theme(style='ticks')\n",
    "\n",
    "#df_DA_top_pay[::-1].plot(kind='barh',y='median',ax=ax[0], legend = False)\n",
    "sns.barplot(data=df_DA_top_pay,x='median',y=df_DA_top_pay.index,ax=ax[0], hue = 'median',palette='light:b')\n",
    "\n",
    "ax[0].set_title('Top 10 Highest Paid Skills for Data Analyst')\n",
    "ax[0].set_ylabel('')\n",
    "ax[0].set_xlabel('')\n",
    "ax[0].xaxis.set_major_formatter(plt.FuncFormatter(lambda x,pos : f'${int(x/1000)}K'))\n",
    "ax[0].legend().remove()\n",
    "\n",
    "\n",
    "#df_DA_skills[::-1].plot(kind='barh',y='median',ax=ax[1],legend=False)\n",
    "sns.barplot(data=df_DA_skills,x='median',y=df_DA_skills.index,ax=ax[1],hue = 'median',palette='dark:b_r')\n",
    "\n",
    "ax[1].set_title('Top 10 Most In-Demand Sills for Data Analyst')\n",
    "ax[1].set_ylabel('')\n",
    "ax[1].set_xlabel('Median Salary (USD)')\n",
    "ax[1].xaxis.set_major_formatter(plt.FuncFormatter(lambda x,pos : f'${int(x/1000)}K'))\n",
    "ax[1].legend().remove()\n",
    "\n",
    "fig.tight_layout()\n",
    "plt.show()"
   ]
  }
 ],
 "metadata": {
  "kernelspec": {
   "display_name": "python_course",
   "language": "python",
   "name": "python3"
  },
  "language_info": {
   "codemirror_mode": {
    "name": "ipython",
    "version": 3
   },
   "file_extension": ".py",
   "mimetype": "text/x-python",
   "name": "python",
   "nbconvert_exporter": "python",
   "pygments_lexer": "ipython3",
   "version": "3.11.9"
  }
 },
 "nbformat": 4,
 "nbformat_minor": 2
}
